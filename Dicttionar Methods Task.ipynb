{
 "cells": [
  {
   "cell_type": "markdown",
   "id": "bd8faa2d-bf36-4017-9c4a-6f69924da4ad",
   "metadata": {},
   "source": [
    "## Dictionary Method()"
   ]
  },
  {
   "cell_type": "markdown",
   "id": "b15f1857",
   "metadata": {},
   "source": [
    "##### 1. clear() : removes all the elements from a dictionary.\n",
    "\n"
   ]
  },
  {
   "cell_type": "code",
   "execution_count": 28,
   "id": "e2e71e17",
   "metadata": {},
   "outputs": [
    {
     "name": "stdout",
     "output_type": "stream",
     "text": [
      "None\n",
      "{}\n"
     ]
    }
   ],
   "source": [
    "Data_Scientist = {\"First_name\":\"Rohit\",\n",
    "           \"Last_name\":\"Chanaksh\",\n",
    "            \"Born Year\":1997,\n",
    "            \"Alive\":True \n",
    "            }\n",
    "\n",
    "D1 = Data_Scientist.clear()\n",
    "\n",
    "print(D1)\n",
    "\n",
    "print(Data_Scientist)"
   ]
  },
  {
   "cell_type": "markdown",
   "id": "0d52ab24-b93c-409a-8af2-a4294a0f4ca2",
   "metadata": {},
   "source": [
    "##### 2. copy() :- THis method returns a copy of the specified dictionary.\n",
    "\n"
   ]
  },
  {
   "cell_type": "code",
   "execution_count": 1,
   "id": "43087a17-32ba-43ca-9894-1eecbe2b114d",
   "metadata": {},
   "outputs": [
    {
     "name": "stdout",
     "output_type": "stream",
     "text": [
      "{'First_name': 'Rohit', 'Last_name': 'Chanaksh', 'Born Year': 1997, 'Alive': True}\n"
     ]
    }
   ],
   "source": [
    "Data_Scientist = {\"First_name\":\"Rohit\",\n",
    "           \"Last_name\":\"Chanaksh\",\n",
    "            \"Born Year\":1997,\n",
    "            \"Alive\":True \n",
    "            }\n",
    "\n",
    "D1 = Data_Scientist.copy()\n",
    "\n",
    "print(D1)"
   ]
  },
  {
   "cell_type": "markdown",
   "id": "e8b68642-77ac-43c9-9337-27dfe998cd0a",
   "metadata": {},
   "source": [
    "##### 3. fromkeys(): This method returns a dictionary with the specified keys having the specified value\n",
    "\n"
   ]
  },
  {
   "cell_type": "code",
   "execution_count": 4,
   "id": "174d35b1-9cd4-4387-9d8d-b72666d5fca0",
   "metadata": {},
   "outputs": [
    {
     "name": "stdout",
     "output_type": "stream",
     "text": [
      "{'10th': 'Pass', '12th': 'Pass', 'B.E(EE)': 'Pass'}\n"
     ]
    }
   ],
   "source": [
    "Keys = (\"10th\",\"12th\",\"B.E(EE)\")\n",
    "Values = (\"Pass\")\n",
    "\n",
    "dictionary = dict.fromkeys(Keys,Values)\n",
    "\n",
    "print(dictionary)"
   ]
  },
  {
   "cell_type": "markdown",
   "id": "abb09708-c57a-4de5-89f4-7d5589b4b1d9",
   "metadata": {},
   "source": [
    "##### 4. get():This method returns the value of the item with the specified key\n",
    "\n"
   ]
  },
  {
   "cell_type": "code",
   "execution_count": 7,
   "id": "3e3c07e0-85c8-4caf-9040-a34fb180f70c",
   "metadata": {},
   "outputs": [
    {
     "name": "stdout",
     "output_type": "stream",
     "text": [
      "Rohit\n"
     ]
    }
   ],
   "source": [
    "Data_Scientist = {\"First_name\":\"Rohit\",\n",
    "           \"Last_name\":\"Chanaksh\",\n",
    "            \"Born Year\":1997,\n",
    "            \"Alive\":True \n",
    "            }\n",
    "\n",
    "get = Data_Scientist.get(\"First_name\")\n",
    "\n",
    "\n",
    "print(get)"
   ]
  },
  {
   "cell_type": "markdown",
   "id": "740321b1-55e1-470e-9926-23301d0433b2",
   "metadata": {},
   "source": [
    "##### 5. items() : This method returns a view object. The view object contains the key-value pairs of the dictionary, as tuples in a list.\n",
    "##### The view object will reflect any changes done to the dictionary\n",
    "\n"
   ]
  },
  {
   "cell_type": "code",
   "execution_count": 3,
   "id": "b613ba73-e3ec-4ea9-8cb1-cc92960ef659",
   "metadata": {},
   "outputs": [
    {
     "name": "stdout",
     "output_type": "stream",
     "text": [
      "dict_items([('brand', 'Ford'), ('model', 'Mustang'), ('year', 1964)])\n"
     ]
    }
   ],
   "source": [
    "car = {\n",
    "  \"brand\": \"Ford\",\n",
    "  \"model\": \"Mustang\",\n",
    "  \"year\": 1964\n",
    "}\n",
    "\n",
    "x = car.items()\n",
    "\n",
    "print(x)"
   ]
  },
  {
   "cell_type": "markdown",
   "id": "438b7d00-536c-4d94-8105-89332d7483c0",
   "metadata": {},
   "source": [
    "##### 6. keys() Method:- returns a view object. The view object contains the keys of the dictionary, as a list.\n",
    "##### The view object will reflect any changes done to the dictionary"
   ]
  },
  {
   "cell_type": "code",
   "execution_count": 11,
   "id": "8d2c571e-0b47-4ad3-a7f7-90175c8b267f",
   "metadata": {},
   "outputs": [
    {
     "name": "stdout",
     "output_type": "stream",
     "text": [
      "dict_keys(['brand', 'model', 'year'])\n",
      "dict_keys(['brand', 'model', 'year'])\n"
     ]
    }
   ],
   "source": [
    "car = {\n",
    "  \"brand\": \"Ford\",\n",
    "  \"model\": \"Mustang\",\n",
    "  \"year\": 1964\n",
    "}\n",
    "\n",
    "keys = car.keys()\n",
    "\n",
    "print(keys)\n",
    "\n",
    "print(car.keys())"
   ]
  },
  {
   "cell_type": "markdown",
   "id": "1b66ea72-b01f-49b1-8811-f6d8e55fc796",
   "metadata": {},
   "source": [
    "##### 7. pop() Method :- The pop() method removes the specified item from the dictionary.\n",
    "##### The value of the removed item is the return value of the pop() method"
   ]
  },
  {
   "cell_type": "code",
   "execution_count": 16,
   "id": "56182d79-bf7b-42ac-a5eb-7c43c235abf2",
   "metadata": {},
   "outputs": [
    {
     "name": "stdout",
     "output_type": "stream",
     "text": [
      "Mustang\n",
      "{'brand': 'Ford', 'year': 1964}\n"
     ]
    }
   ],
   "source": [
    "car = {\n",
    "  \"brand\": \"Ford\",\n",
    "  \"model\": \"Mustang\",\n",
    "  \"year\": 1964\n",
    "}\n",
    "\n",
    "pop = car.pop('model')\n",
    "\n",
    "print(pop)\n",
    "\n",
    "print(car)"
   ]
  },
  {
   "cell_type": "markdown",
   "id": "3dba2545-02f1-46c0-94df-6230d5b63e84",
   "metadata": {},
   "source": [
    "##### 8. popitem() Method :- removes the item that was last inserted into the dictionary\n",
    "##### The removed item is the return value of the popitem() method, as a tuple\n",
    "\n"
   ]
  },
  {
   "cell_type": "code",
   "execution_count": 17,
   "id": "ea8c3ff9-53e1-49d9-9f5c-9f91853d1396",
   "metadata": {},
   "outputs": [
    {
     "name": "stdout",
     "output_type": "stream",
     "text": [
      "('Coach', 'Gautam Gambhir')\n",
      "{'T20I Captain': 'Surya', 'ODI Captain': 'Rohit', 'Test Captain': 'KL Rahul'}\n"
     ]
    }
   ],
   "source": [
    "ICT = {\"T20I Captain\":\"Surya\",\n",
    "       \"ODI Captain\":\"Rohit\",\n",
    "       \"Test Captain\":\"KL Rahul\",\n",
    "       \"Coach\":\"Gautam Gambhir\"\n",
    "    }\n",
    "\n",
    "pop_item = ICT.popitem()\n",
    "\n",
    "print(pop_item)\n",
    "\n",
    "print(ICT)"
   ]
  },
  {
   "cell_type": "markdown",
   "id": "d589f023-73d3-4d46-88c0-e2357408d37a",
   "metadata": {},
   "source": [
    "##### 9. setdefault() Method :-  Returns the default value if the key is not found and also inserts the key with the default value into the dictionary"
   ]
  },
  {
   "cell_type": "code",
   "execution_count": 32,
   "id": "59136497-1d13-4451-a0b0-f3eb8aa7847d",
   "metadata": {},
   "outputs": [
    {
     "name": "stdout",
     "output_type": "stream",
     "text": [
      "None\n"
     ]
    },
    {
     "data": {
      "text/plain": [
       "{'T20I Captain': 'Surya',\n",
       " 'ODI Captain': 'Rohit',\n",
       " 'Test Captain': 'KL Rahul',\n",
       " 'Coach': 'Gautam Gambhir',\n",
       " 'BCCI Secretary': 'Jay Shah'}"
      ]
     },
     "execution_count": 32,
     "metadata": {},
     "output_type": "execute_result"
    }
   ],
   "source": [
    "ICT = {\"T20I Captain\":\"Surya\",\n",
    "       \"ODI Captain\":\"Rohit\",\n",
    "       \"Test Captain\":\"KL Rahul\",\n",
    "       \"Coach\":\"Gautam Gambhir\"\n",
    "    }\n",
    "\n",
    "set_default = ICT.setdefault('BCCI Secretary','Jay Shah')\n",
    "\n",
    "print(ICT.get('Ajit'))\n",
    "\n",
    "ICT"
   ]
  },
  {
   "cell_type": "markdown",
   "id": "5f3dcd9e-81ee-4496-b48d-949f4f433828",
   "metadata": {},
   "source": [
    "##### 10. update() Method :- inserts the specified items to the dictionary."
   ]
  },
  {
   "cell_type": "code",
   "execution_count": 26,
   "id": "4d408f28-e742-42ee-a687-50f9e5b8e460",
   "metadata": {},
   "outputs": [
    {
     "name": "stdout",
     "output_type": "stream",
     "text": [
      "None\n",
      "{'T20I Captain': 'Surya', 'ODI Captain': 'Rohit', 'Test Captain': 'KL Rahul', 'Coach': 'Gautam Gambhir', 'Batting Coach': 'Abhishek Nayar'}\n"
     ]
    }
   ],
   "source": [
    "ICT = {\"T20I Captain\":\"Surya\",\n",
    "       \"ODI Captain\":\"Rohit\",\n",
    "       \"Test Captain\":\"KL Rahul\",\n",
    "       \"Coach\":\"Gautam Gambhir\"\n",
    "}\n",
    "\n",
    "UPDATE = ICT.update({'Batting Coach':'Abhishek Nayar'})\n",
    "\n",
    "print(UPDATE)\n",
    "\n",
    "print(ICT)"
   ]
  },
  {
   "cell_type": "markdown",
   "id": "6d9deef5",
   "metadata": {},
   "source": [
    "##### 11. values() :  returns a view object. The view object contains the values of the dictionary, as a list.\n",
    "\n",
    "##### The view object will reflect any changes done to the dictionary, see example below."
   ]
  },
  {
   "cell_type": "code",
   "execution_count": 29,
   "id": "fa82020d",
   "metadata": {},
   "outputs": [
    {
     "name": "stdout",
     "output_type": "stream",
     "text": [
      "dict_values(['Surya', 'Rohit', 'KL Rahul', 'Gautam Gambhir'])\n",
      "{'T20I Captain': 'Surya', 'ODI Captain': 'Rohit', 'Test Captain': 'KL Rahul', 'Coach': 'Gautam Gambhir'}\n"
     ]
    }
   ],
   "source": [
    "ICT = {\"T20I Captain\":\"Surya\",\n",
    "       \"ODI Captain\":\"Rohit\",\n",
    "       \"Test Captain\":\"KL Rahul\",\n",
    "       \"Coach\":\"Gautam Gambhir\"\n",
    "}\n",
    "\n",
    "values = ICT.values()\n",
    "\n",
    "print(values)\n",
    "\n",
    "print(ICT)"
   ]
  },
  {
   "cell_type": "raw",
   "id": "81d9e25f",
   "metadata": {
    "vscode": {
     "languageId": "raw"
    }
   },
   "source": [
    "In Python, both `get()` and `setdefault()` are methods used to access values in a dictionary, but they serve different purposes and have different behaviors. \n",
    "Here's a detailed comparison of the two:\n",
    "\n",
    "### `get()`\n",
    "\n",
    "The `get()` method is used to retrieve the value associated with a specified key. If the key is not found in the dictionary, it returns a default value, \n",
    "which is `None` by default if no other default value is specified.\n",
    "\n",
    "**Syntax:**\n",
    "```python\n",
    "value = dictionary.get(key, default_value)\n",
    "```\n",
    "\n",
    "- **key:** The key whose value you want to retrieve.\n",
    "- **default_value:** The value to return if the key is not found (optional, defaults to `None`).\n",
    "\n",
    "**Example:**\n",
    "```python\n",
    "my_dict = {'a': 1, 'b': 2}\n",
    "value = my_dict.get('a')           # Returns 1\n",
    "value_not_found = my_dict.get('c') # Returns None\n",
    "value_default = my_dict.get('c', 3) # Returns 3\n",
    "```\n",
    "\n",
    "### `setdefault()`\n",
    "\n",
    "The `setdefault()` method is used to retrieve the value associated with a specified key. If the key is not found in the dictionary, it inserts the key \n",
    "with a specified default value and then returns the value.\n",
    "\n",
    "**Syntax:**\n",
    "```python\n",
    "value = dictionary.setdefault(key, default_value)\n",
    "```\n",
    "\n",
    "- **key:** The key whose value you want to retrieve or set.\n",
    "- **default_value:** The value to set if the key is not found (optional, defaults to `None`).\n",
    "\n",
    "**Example:**\n",
    "```python\n",
    "my_dict = {'a': 1, 'b': 2}\n",
    "value = my_dict.setdefault('a')           # Returns 1, dictionary remains unchanged\n",
    "value_not_found = my_dict.setdefault('c', 3) # Inserts 'c': 3 into dictionary and returns 3\n",
    "\n",
    "# Now, my_dict is {'a': 1, 'b': 2, 'c': 3}\n",
    "```\n",
    "\n",
    "### Key Differences\n",
    "\n",
    "1. **Default Value Behavior:**\n",
    "   - `get()`: Returns the default value if the key is not found but does not modify the dictionary.\n",
    "   - `setdefault()`: Returns the default value if the key is not found and also inserts the key with the default value into the dictionary.\n",
    "\n",
    "2. **Dictionary Modification:**\n",
    "   - `get()`: Does not modify the dictionary.\n",
    "   - `setdefault()`: Modifies the dictionary by adding the key with the default value if the key is not already present.\n",
    "\n",
    "### When to Use\n",
    "\n",
    "- **Use `get()` when you only need to retrieve the value associated with a key and do not want to modify the dictionary if the key is not found.**\n",
    "- **Use `setdefault()` when you want to ensure a key is present in the dictionary with a default value if it is not already there, and you also want to retrieve the value.**\n",
    "\n",
    "These methods can be very handy for different scenarios in dictionary operations, depending on whether you need to modify the dictionary or not."
   ]
  }
 ],
 "metadata": {
  "kernelspec": {
   "display_name": "Python 3 (ipykernel)",
   "language": "python",
   "name": "python3"
  },
  "language_info": {
   "codemirror_mode": {
    "name": "ipython",
    "version": 3
   },
   "file_extension": ".py",
   "mimetype": "text/x-python",
   "name": "python",
   "nbconvert_exporter": "python",
   "pygments_lexer": "ipython3",
   "version": "3.12.4"
  }
 },
 "nbformat": 4,
 "nbformat_minor": 5
}
